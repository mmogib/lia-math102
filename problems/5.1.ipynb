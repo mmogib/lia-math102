{
 "cells": [
  {
   "cell_type": "code",
   "execution_count": 1,
   "metadata": {},
   "outputs": [
    {
     "name": "stderr",
     "output_type": "stream",
     "text": [
      "┌ Info: Precompiling Plots [91a5bcdd-55d7-5caf-9e0b-520d859cae80]\n",
      "└ @ Base loading.jl:1278\n"
     ]
    }
   ],
   "source": [
    "using Plots, SymPy"
   ]
  },
  {
   "cell_type": "code",
   "execution_count": 19,
   "metadata": {},
   "outputs": [
    {
     "data": {
      "text/latex": [
       "$\\begin{equation*}2.0 p_{1} \\left(\\left|{p_{2} - 49.0}\\right| + \\left|{p_{2} - 25.0}\\right| + \\left|{p_{2} - 9.0}\\right| + \\left|{p_{2} - 1.0}\\right|\\right)\\end{equation*}$\n"
      ],
      "text/plain": [
       "2.0⋅p₁⋅(│p₂ - 49.0│ + │p₂ - 25.0│ + │p₂ - 9.0│ + │p₂ - 1.0│)"
      ]
     },
     "execution_count": 19,
     "metadata": {},
     "output_type": "execute_result"
    }
   ],
   "source": [
    "# T112_E1\n",
    "# The estimated area under the graph of f (x) = (1/2)|x^2-3|( from\n",
    "# x = 0 to x = 8 by using four approximating rectangles and\n",
    "# midpoints equals to\n",
    "p₁,p₂ = symbols(\"p1,p2\", real=true)\n",
    "f(x) = (p₁)*abs(x^2-p₂)\n",
    "a, b, n = 0, 8, 4 \n",
    "Δx = (b-a)/n\n",
    "x = range(a,stop=b,step=Δx)\n",
    "y = f.((x[1:end-1]+x[2:end])/2)\n",
    "Mn = simplify(Δx*sum(y))"
   ]
  },
  {
   "cell_type": "code",
   "execution_count": 24,
   "metadata": {},
   "outputs": [
    {
     "data": {
      "text/latex": [
       "$\\begin{equation*}16.5\\end{equation*}$\n"
      ],
      "text/plain": [
       "16.5000000000000"
      ]
     },
     "execution_count": 24,
     "metadata": {},
     "output_type": "execute_result"
    }
   ],
   "source": [
    "subs(Mn,(p₁,0.125),(p₂,8))"
   ]
  },
  {
   "cell_type": "code",
   "execution_count": null,
   "metadata": {},
   "outputs": [],
   "source": []
  }
 ],
 "metadata": {
  "kernelspec": {
   "display_name": "Julia 1.5.0",
   "language": "julia",
   "name": "julia-1.5"
  },
  "language_info": {
   "file_extension": ".jl",
   "mimetype": "application/julia",
   "name": "julia",
   "version": "1.5.0"
  }
 },
 "nbformat": 4,
 "nbformat_minor": 4
}
