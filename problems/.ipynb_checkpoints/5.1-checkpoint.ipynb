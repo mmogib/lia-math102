{
 "cells": [
  {
   "cell_type": "code",
   "execution_count": 1,
   "metadata": {},
   "outputs": [
    {
     "name": "stderr",
     "output_type": "stream",
     "text": [
      "┌ Info: Precompiling Plots [91a5bcdd-55d7-5caf-9e0b-520d859cae80]\n",
      "└ @ Base loading.jl:1278\n"
     ]
    }
   ],
   "source": [
    "using Plots, SymPy"
   ]
  },
  {
   "cell_type": "code",
   "execution_count": 11,
   "metadata": {},
   "outputs": [
    {
     "data": {
      "text/plain": [
       "76.0"
      ]
     },
     "execution_count": 11,
     "metadata": {},
     "output_type": "execute_result"
    }
   ],
   "source": [
    "# T112_E1\n",
    "# The estimated area under the graph of f (x) = (1/2)|x^2-3|( from\n",
    "# x = 0 to x = 8 by using four approximating rectangles and\n",
    "# midpoints equals to\n",
    "p₁,p₂ = symbols(\"p1,p2\", real=true)\n",
    "f(x) = (p₁)*abs(x^2-p₁)\n",
    "a, b, n = 0, 8, 4 \n",
    "Δx = (b-a)/n\n",
    "x = range(a,stop=b,step=Δx)\n",
    "y = f.((x[1:end-1]+x[2:end])/2)\n",
    "Mn = Δx*sum(y)"
   ]
  },
  {
   "cell_type": "code",
   "execution_count": 13,
   "metadata": {},
   "outputs": [
    {
     "data": {
      "text/latex": [
       "$\\begin{equation*}p_{1}\\end{equation*}$\n"
      ],
      "text/plain": [
       "p₁"
      ]
     },
     "execution_count": 13,
     "metadata": {},
     "output_type": "execute_result"
    }
   ],
   "source": []
  },
  {
   "cell_type": "code",
   "execution_count": null,
   "metadata": {},
   "outputs": [],
   "source": []
  }
 ],
 "metadata": {
  "kernelspec": {
   "display_name": "Julia 1.5.0",
   "language": "julia",
   "name": "julia-1.5"
  },
  "language_info": {
   "file_extension": ".jl",
   "mimetype": "application/julia",
   "name": "julia",
   "version": "1.5.0"
  }
 },
 "nbformat": 4,
 "nbformat_minor": 4
}
