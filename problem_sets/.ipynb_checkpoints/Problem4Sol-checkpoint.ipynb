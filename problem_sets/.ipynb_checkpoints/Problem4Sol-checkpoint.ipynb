{
 "cells": [
  {
   "cell_type": "markdown",
   "id": "electronic-columbia",
   "metadata": {},
   "source": [
    "![Porblem 4](./ProblemSet1problem4.png)"
   ]
  },
  {
   "cell_type": "code",
   "execution_count": 27,
   "id": "drawn-tourism",
   "metadata": {},
   "outputs": [
    {
     "data": {
      "text/plain": [
       "0.7828939967307822"
      ]
     },
     "execution_count": 27,
     "metadata": {},
     "output_type": "execute_result"
    }
   ],
   "source": [
    "f(x) = 1/(x^2+1)\n"
   ]
  },
  {
   "cell_type": "code",
   "execution_count": 28,
   "id": "outstanding-cutting",
   "metadata": {},
   "outputs": [
    {
     "data": {
      "text/plain": [
       "problem4 (generic function with 1 method)"
      ]
     },
     "execution_count": 28,
     "metadata": {},
     "output_type": "execute_result"
    }
   ],
   "source": [
    "function problem4(n)\n",
    "    a=0\n",
    "    b=1\n",
    "    Deltax=(b-a)/n\n",
    "    x = range(0,stop=1,step=Deltax)\n",
    "    x_right = x[2:end]\n",
    "    y_right =f.(x_right)\n",
    "    Rn = Deltax*sum(y_right)\n",
    "end"
   ]
  },
  {
   "cell_type": "code",
   "execution_count": 32,
   "id": "improved-arabic",
   "metadata": {},
   "outputs": [
    {
     "data": {
      "text/plain": [
       "20-element Array{Float64,1}:\n",
       " 0.7803814967308134\n",
       " 0.7828939967307822\n",
       " 0.7837296448789298\n",
       " 0.7841471217307816\n",
       " 0.7843974967307815\n",
       " 0.7845643671011521\n",
       " 0.7846835375471083\n",
       " 0.7847729029807817\n",
       " 0.7848424020805759\n",
       " 0.7848979967307815\n",
       " 0.784943480201856\n",
       " 0.784981380990041\n",
       " 0.7850134493935035\n",
       " 0.7850409355062917\n",
       " 0.7850647559900411\n",
       " 0.7850855982932815\n",
       " 0.7851039880802625\n",
       " 0.7851203341793414\n",
       " 0.7851349593346598\n",
       " 0.7851481217307815"
      ]
     },
     "execution_count": 32,
     "metadata": {},
     "output_type": "execute_result"
    }
   ],
   "source": [
    "[problem4(n) for n in 50:50:1000]"
   ]
  },
  {
   "cell_type": "code",
   "execution_count": 33,
   "id": "female-concrete",
   "metadata": {},
   "outputs": [
    {
     "data": {
      "text/plain": [
       "0.7853981633974483"
      ]
     },
     "execution_count": 33,
     "metadata": {},
     "output_type": "execute_result"
    }
   ],
   "source": [
    "pi/4"
   ]
  }
 ],
 "metadata": {
  "kernelspec": {
   "display_name": "Julia 1.5.0",
   "language": "julia",
   "name": "julia-1.5"
  },
  "language_info": {
   "file_extension": ".jl",
   "mimetype": "application/julia",
   "name": "julia",
   "version": "1.5.0"
  }
 },
 "nbformat": 4,
 "nbformat_minor": 5
}
