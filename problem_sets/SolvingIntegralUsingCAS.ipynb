{
 "cells": [
  {
   "cell_type": "markdown",
   "id": "planned-module",
   "metadata": {},
   "source": [
    "## 2. Using a Computer Algebra System\n",
    "## Example: \n",
    "### (i) Set up an expression for $\\int_1^3 e^x dx$ as a limit of sums. \n",
    "### (ii) Use a computer algebra system to evaluate the expression"
   ]
  },
  {
   "cell_type": "code",
   "execution_count": 11,
   "id": "aware-trauma",
   "metadata": {},
   "outputs": [
    {
     "data": {
      "text/plain": [
       "17.36725683145419"
      ]
     },
     "execution_count": 11,
     "metadata": {},
     "output_type": "execute_result"
    }
   ],
   "source": [
    "f(x) = exp(x)\n",
    "a,b  = 1,3\n",
    "n = 10000000\n",
    "Δx=(b-a)/n\n",
    "x = range(a+Δx,stop=b,step=Δx)\n",
    "y= f.(x)\n",
    "Rn = Δx * sum(y)"
   ]
  },
  {
   "cell_type": "code",
   "execution_count": 69,
   "id": "anticipated-nelson",
   "metadata": {},
   "outputs": [
    {
     "data": {
      "text/plain": [
       "17.367255094728623"
      ]
     },
     "execution_count": 69,
     "metadata": {},
     "output_type": "execute_result"
    }
   ],
   "source": [
    "exp(3)-exp(1)"
   ]
  },
  {
   "cell_type": "code",
   "execution_count": 6,
   "id": "brazilian-encoding",
   "metadata": {},
   "outputs": [
    {
     "data": {
      "text/latex": [
       "\\begin{equation*}17.3672550947286\\end{equation*}"
      ],
      "text/plain": [
       "17.3672550947286"
      ]
     },
     "execution_count": 6,
     "metadata": {},
     "output_type": "execute_result"
    }
   ],
   "source": [
    "using SymPy\n",
    "a, b = 1, 3\n",
    "i, n = symbols(\"i,n\", integer=true,positive=true)\n",
    "Δx = (b-a)/n\n",
    "xi = a + i*Δx\n",
    "S = summation(exp(xi),(i,1,n))*Δx\n",
    "limit(S,n,oo)"
   ]
  },
  {
   "cell_type": "code",
   "execution_count": null,
   "id": "dress-grade",
   "metadata": {},
   "outputs": [],
   "source": []
  }
 ],
 "metadata": {
  "kernelspec": {
   "display_name": "Julia 1.5.0",
   "language": "julia",
   "name": "julia-1.5"
  },
  "language_info": {
   "file_extension": ".jl",
   "mimetype": "application/julia",
   "name": "julia",
   "version": "1.5.0"
  }
 },
 "nbformat": 4,
 "nbformat_minor": 5
}
