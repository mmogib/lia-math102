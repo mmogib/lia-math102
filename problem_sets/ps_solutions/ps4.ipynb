{
 "cells": [
  {
   "cell_type": "code",
   "execution_count": 28,
   "metadata": {},
   "outputs": [],
   "source": [
    "using Plots, SymPy, LaTeXStrings"
   ]
  },
  {
   "cell_type": "code",
   "execution_count": 29,
   "metadata": {},
   "outputs": [
    {
     "data": {
      "text/plain": [
       "(x, θ)"
      ]
     },
     "execution_count": 29,
     "metadata": {},
     "output_type": "execute_result"
    }
   ],
   "source": [
    "x, θ = symbols(\"x, θ\", real=true)"
   ]
  },
  {
   "cell_type": "code",
   "execution_count": 30,
   "metadata": {},
   "outputs": [
    {
     "data": {
      "text/latex": [
       "$\\begin{equation*}1.41421356237309\\end{equation*}$\n"
      ],
      "text/plain": [
       "1.41421356237309"
      ]
     },
     "execution_count": 30,
     "metadata": {},
     "output_type": "execute_result"
    }
   ],
   "source": [
    "# problem 1\n",
    "f1(θ)= (1+sin(θ))/(cos(θ))^2\n",
    "I1 = integrate(f1(θ),(θ,0,π/4))"
   ]
  },
  {
   "cell_type": "code",
   "execution_count": 34,
   "metadata": {},
   "outputs": [
    {
     "data": {
      "text/latex": [
       "$\\begin{equation*}\\frac{55}{63}\\end{equation*}$\n"
      ],
      "text/plain": [
       "55\n",
       "──\n",
       "63"
      ]
     },
     "execution_count": 34,
     "metadata": {},
     "output_type": "execute_result"
    }
   ],
   "source": [
    "# problem 2\n",
    "f2(x) = x*(x^(1//3)+x^(1//4))\n",
    "f2(x)\n",
    "I2 = integrate(f2(x),(x,0,1))"
   ]
  },
  {
   "cell_type": "code",
   "execution_count": 36,
   "metadata": {},
   "outputs": [
    {
     "data": {
      "text/latex": [
       "$\\begin{equation*}3.0\\end{equation*}$\n"
      ],
      "text/plain": [
       "3.00000000000000"
      ]
     },
     "execution_count": 36,
     "metadata": {},
     "output_type": "execute_result"
    }
   ],
   "source": [
    "# problem 3\n",
    "I3 = integrate(abs(sin(x)),(x,0,3π/2))"
   ]
  },
  {
   "cell_type": "code",
   "execution_count": 39,
   "metadata": {},
   "outputs": [
    {
     "data": {
      "text/latex": [
       "$\\begin{equation*}- \\frac{8}{3}\\end{equation*}$\n"
      ],
      "text/plain": [
       "-8/3"
      ]
     },
     "execution_count": 39,
     "metadata": {},
     "output_type": "execute_result"
    }
   ],
   "source": [
    "# problem 4\n",
    "displacement = integrate(x^2-5*x+4,(x,0,4)) "
   ]
  },
  {
   "cell_type": "code",
   "execution_count": 40,
   "metadata": {},
   "outputs": [
    {
     "data": {
      "text/latex": [
       "$\\begin{equation*}\\frac{19}{3}\\end{equation*}$\n"
      ],
      "text/plain": [
       "19/3"
      ]
     },
     "execution_count": 40,
     "metadata": {},
     "output_type": "execute_result"
    }
   ],
   "source": [
    "distance = integrate(abs(x^2-5*x+4),(x,0,4)) "
   ]
  },
  {
   "cell_type": "code",
   "execution_count": 46,
   "metadata": {},
   "outputs": [
    {
     "data": {
      "text/latex": [
       "$\\begin{equation*}0.765587078525921\\end{equation*}$\n"
      ],
      "text/plain": [
       "0.765587078525921"
      ]
     },
     "execution_count": 46,
     "metadata": {},
     "output_type": "execute_result"
    }
   ],
   "source": [
    "# problem 1 - ps 5\n",
    "integrate(x^2,(x,-π/3,π/3)).doit()"
   ]
  },
  {
   "cell_type": "code",
   "execution_count": 45,
   "metadata": {},
   "outputs": [
    {
     "data": {
      "text/plain": [
       "0.7655870785259213"
      ]
     },
     "execution_count": 45,
     "metadata": {},
     "output_type": "execute_result"
    }
   ],
   "source": [
    "(2*π^3)/81"
   ]
  },
  {
   "cell_type": "code",
   "execution_count": 48,
   "metadata": {},
   "outputs": [
    {
     "data": {
      "text/latex": [
       "$\\begin{equation*}0.5\\end{equation*}$\n"
      ],
      "text/plain": [
       "0.500000000000000"
      ]
     },
     "execution_count": 48,
     "metadata": {},
     "output_type": "execute_result"
    }
   ],
   "source": [
    "# problem 2 - ps 5\n",
    "integrate(cos(asin(x))/(sqrt(1-x^2)),(x,0,1/2))"
   ]
  },
  {
   "cell_type": "code",
   "execution_count": 52,
   "metadata": {},
   "outputs": [
    {
     "data": {
      "text/latex": [
       "$\\begin{equation*}\\frac{x^{6} \\sqrt[3]{x^{3} + 1}}{7} + \\frac{x^{3} \\sqrt[3]{x^{3} + 1}}{28} - \\frac{3 \\sqrt[3]{x^{3} + 1}}{28}\\end{equation*}$\n"
      ],
      "text/plain": [
       "      ________         ________        ________\n",
       " 6 3 ╱  3         3 3 ╱  3          3 ╱  3     \n",
       "x ⋅╲╱  x  + 1    x ⋅╲╱  x  + 1    3⋅╲╱  x  + 1 \n",
       "────────────── + ────────────── - ─────────────\n",
       "      7                28               28     "
      ]
     },
     "execution_count": 52,
     "metadata": {},
     "output_type": "execute_result"
    }
   ],
   "source": [
    "# problem 3 - ps 5\n",
    "integrate((x^3+1)^(1//3)*x^5)"
   ]
  },
  {
   "cell_type": "code",
   "execution_count": 54,
   "metadata": {},
   "outputs": [
    {
     "data": {
      "text/latex": [
       "$\\begin{equation*}3.75\\end{equation*}$\n"
      ],
      "text/plain": [
       "3.75000000000000"
      ]
     },
     "execution_count": 54,
     "metadata": {},
     "output_type": "execute_result"
    }
   ],
   "source": [
    "# problem 4 - ps 5\n",
    "integrate((1+tan(x))^3*(sec(x))^2,(x,0,π/4))"
   ]
  },
  {
   "cell_type": "code",
   "execution_count": 57,
   "metadata": {},
   "outputs": [
    {
     "data": {
      "text/latex": [
       "$\\begin{equation*}4.38905609893065\\end{equation*}$\n"
      ],
      "text/plain": [
       "4.38905609893065"
      ]
     },
     "execution_count": 57,
     "metadata": {},
     "output_type": "execute_result"
    }
   ],
   "source": [
    "# problem 5 - ps 5\n",
    "integrate(4exp(x)*sinh(x),(x,0,1)).n()"
   ]
  },
  {
   "cell_type": "code",
   "execution_count": 58,
   "metadata": {},
   "outputs": [
    {
     "data": {
      "text/plain": [
       "4.38905609893065"
      ]
     },
     "execution_count": 58,
     "metadata": {},
     "output_type": "execute_result"
    }
   ],
   "source": [
    "exp(2)-3"
   ]
  },
  {
   "cell_type": "code",
   "execution_count": null,
   "metadata": {},
   "outputs": [],
   "source": []
  }
 ],
 "metadata": {
  "kernelspec": {
   "display_name": "Julia 1.5.0",
   "language": "julia",
   "name": "julia-1.5"
  },
  "language_info": {
   "file_extension": ".jl",
   "mimetype": "application/julia",
   "name": "julia",
   "version": "1.5.0"
  }
 },
 "nbformat": 4,
 "nbformat_minor": 4
}
